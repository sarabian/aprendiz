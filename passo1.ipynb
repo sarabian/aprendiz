{
  "nbformat": 4,
  "nbformat_minor": 0,
  "metadata": {
    "colab": {
      "provenance": [],
      "authorship_tag": "ABX9TyO4QFeiJqfOsMltM1scqYZx",
      "include_colab_link": true
    },
    "kernelspec": {
      "name": "python3",
      "display_name": "Python 3"
    },
    "language_info": {
      "name": "python"
    }
  },
  "cells": [
    {
      "cell_type": "markdown",
      "metadata": {
        "id": "view-in-github",
        "colab_type": "text"
      },
      "source": [
        "<a href=\"https://colab.research.google.com/github/sarabian/aprendiz/blob/main/passo1.ipynb\" target=\"_parent\"><img src=\"https://colab.research.google.com/assets/colab-badge.svg\" alt=\"Open In Colab\"/></a>"
      ]
    },
    {
      "cell_type": "code",
      "execution_count": 1,
      "metadata": {
        "colab": {
          "base_uri": "https://localhost:8080/"
        },
        "id": "QeetwG3OPfrh",
        "outputId": "f11972db-496c-4989-98a0-32c8aa33c979"
      },
      "outputs": [
        {
          "output_type": "stream",
          "name": "stdout",
          "text": [
            "Digite seu nome: \n",
            "sara\n",
            "Olá, sara! Prazer em conhecer você!\n",
            "Olá, mundo!\n",
            "Hello, world!\n"
          ]
        }
      ],
      "source": [
        "# Crie um script Python que leia o nome de uma pessoa e mostre uma mensagem de boas-vindas de acordo com o valor digitado\n",
        "\n",
        "entrada = input(\"Digite seu nome: \\n\")\n",
        "print(\"Olá, {}! Prazer em conhecer você!\".format(entrada))\n",
        "\n",
        "# Crie um programa que escreva \"Olá, mundo\" na tela.\n",
        "\n",
        "print(\"Olá, mundo!\")\n",
        "msg = \"Hello, world!\"\n",
        "print(msg)"
      ]
    },
    {
      "cell_type": "code",
      "source": [
        "# Crie um script Python que leia o dia, o mês e o ano de nascimento de uma pessoa e mostre uma mensagem com a data formatada\n",
        "\n",
        "ano = int(input(\"Ano de nascimento: \\n\"))\n",
        "mes = int(input(\"Mês de nascimento: \\n\"))\n",
        "dia = int(input(\"Dia de nascimento: \\n\"))\n",
        "\n",
        "print(\"A pessoa nasceu em: {}/{}/{}\".format(dia, mes, ano))\n",
        "print(\"A pessoa nasceu no dia {} do mês {} do ano de {}.\".format(dia, mes, ano))"
      ],
      "metadata": {
        "colab": {
          "base_uri": "https://localhost:8080/"
        },
        "id": "f90BvYSkPyON",
        "outputId": "eceadaf7-131c-474d-af2e-7ad7d905bb23"
      },
      "execution_count": 2,
      "outputs": [
        {
          "output_type": "stream",
          "name": "stdout",
          "text": [
            "Ano de nascimento: \n",
            "1989\n",
            "Mês de nascimento: \n",
            "09\n",
            "Dia de nascimento: \n",
            "28\n",
            "A pessoa nasceu em: 28/9/1989\n",
            "A pessoa nasceu no dia 28 do mês 9 do ano de 1989.\n"
          ]
        }
      ]
    }
  ]
}