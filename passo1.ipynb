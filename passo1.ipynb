{
  "nbformat": 4,
  "nbformat_minor": 0,
  "metadata": {
    "colab": {
      "provenance": [],
      "authorship_tag": "ABX9TyMcM3kiTf37w/i+bRKEi6EK",
      "include_colab_link": true
    },
    "kernelspec": {
      "name": "python3",
      "display_name": "Python 3"
    },
    "language_info": {
      "name": "python"
    }
  },
  "cells": [
    {
      "cell_type": "markdown",
      "metadata": {
        "id": "view-in-github",
        "colab_type": "text"
      },
      "source": [
        "<a href=\"https://colab.research.google.com/github/sarabian/aprendiz/blob/main/passo1.ipynb\" target=\"_parent\"><img src=\"https://colab.research.google.com/assets/colab-badge.svg\" alt=\"Open In Colab\"/></a>"
      ]
    },
    {
      "cell_type": "code",
      "execution_count": 1,
      "metadata": {
        "colab": {
          "base_uri": "https://localhost:8080/"
        },
        "id": "QeetwG3OPfrh",
        "outputId": "f11972db-496c-4989-98a0-32c8aa33c979"
      },
      "outputs": [
        {
          "output_type": "stream",
          "name": "stdout",
          "text": [
            "Digite seu nome: \n",
            "sara\n",
            "Olá, sara! Prazer em conhecer você!\n",
            "Olá, mundo!\n",
            "Hello, world!\n"
          ]
        }
      ],
      "source": [
        "# Crie um script Python que leia o nome de uma pessoa e mostre uma mensagem de boas-vindas de acordo com o valor digitado\n",
        "\n",
        "entrada = input(\"Digite seu nome: \\n\")\n",
        "print(\"Olá, {}! Prazer em conhecer você!\".format(entrada))\n",
        "\n",
        "# Crie um programa que escreva \"Olá, mundo\" na tela.\n",
        "\n",
        "print(\"Olá, mundo!\")\n",
        "msg = \"Hello, world!\"\n",
        "print(msg)"
      ]
    },
    {
      "cell_type": "code",
      "source": [],
      "metadata": {
        "id": "f90BvYSkPyON"
      },
      "execution_count": null,
      "outputs": []
    }
  ]
}