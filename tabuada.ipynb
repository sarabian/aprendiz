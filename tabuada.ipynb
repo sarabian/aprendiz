{
  "nbformat": 4,
  "nbformat_minor": 0,
  "metadata": {
    "colab": {
      "provenance": [],
      "authorship_tag": "ABX9TyOD3r3CCYfUmTUvF4i8Nr1v",
      "include_colab_link": true
    },
    "kernelspec": {
      "name": "python3",
      "display_name": "Python 3"
    },
    "language_info": {
      "name": "python"
    }
  },
  "cells": [
    {
      "cell_type": "markdown",
      "metadata": {
        "id": "view-in-github",
        "colab_type": "text"
      },
      "source": [
        "<a href=\"https://colab.research.google.com/github/sarabian/aprendiz/blob/main/tabuada.ipynb\" target=\"_parent\"><img src=\"https://colab.research.google.com/assets/colab-badge.svg\" alt=\"Open In Colab\"/></a>"
      ]
    },
    {
      "cell_type": "code",
      "execution_count": 2,
      "metadata": {
        "colab": {
          "base_uri": "https://localhost:8080/"
        },
        "id": "8yTAkGEc64kD",
        "outputId": "747d74dc-6c8a-4d28-dc1c-777bbc985b24"
      },
      "outputs": [
        {
          "output_type": "stream",
          "name": "stdout",
          "text": [
            "Digite um número para calcular a tabuada:8\n",
            "\n",
            "TABUADA - MULTIPLICACAO\n",
            "\n",
            "1*8 = 8\n",
            "2*8 = 16\n",
            "3*8 = 24\n",
            "4*8 = 32\n",
            "5*8 = 40\n",
            "6*8 = 48\n",
            "7*8 = 56\n",
            "8*8 = 64\n",
            "9*8 = 72\n",
            "10*8= 80\n"
          ]
        }
      ],
      "source": [
        "a = int(input('Digite um número para calcular a tabuada:'))\n",
        "\n",
        "print('\\nTABUADA - MULTIPLICACAO')\n",
        "print(f'\\n{1}*{a} = {1*a}')\n",
        "print(f'{2}*{a} = {2*a}')\n",
        "print(f'{3}*{a} = {3*a}')\n",
        "print(f'{4}*{a} = {4*a}')\n",
        "print(f'{5}*{a} = {5*a}') \n",
        "print(f'{6}*{a} = {6*a}')          \n",
        "print(f'{7}*{a} = {7*a}')           \n",
        "print(f'{8}*{a} = {8*a}')        \n",
        "print(f'{9}*{a} = {9*a}')         \n",
        "print(f'{10}*{a}= {10*a}')  "
      ]
    },
    {
      "cell_type": "code",
      "source": [
        "contador = 0                #inicializacao \n",
        "while (contador < 15):\n",
        "    print(contador)\n",
        "    contador += 1 #icrementar\n",
        "else:\n",
        "    print(\"O loop foi encerrado!\")\n"
      ],
      "metadata": {
        "colab": {
          "base_uri": "https://localhost:8080/"
        },
        "id": "fI77wVfv7mU9",
        "outputId": "bfb42605-6068-4b52-c03d-449eeabd86ba"
      },
      "execution_count": 4,
      "outputs": [
        {
          "output_type": "stream",
          "name": "stdout",
          "text": [
            "0\n",
            "1\n",
            "2\n",
            "3\n",
            "4\n",
            "5\n",
            "6\n",
            "7\n",
            "8\n",
            "9\n",
            "10\n",
            "11\n",
            "12\n",
            "13\n",
            "14\n",
            "O loop foi encerrado!\n"
          ]
        }
      ]
    },
    {
      "cell_type": "code",
      "source": [
        "numbers = [1, 2, 3, 4, 5]\n",
        "for number in numbers:\n",
        "    print(number)"
      ],
      "metadata": {
        "colab": {
          "base_uri": "https://localhost:8080/"
        },
        "id": "S-WmTGHx8kRy",
        "outputId": "e18b2ddc-cd0f-458d-f377-692cd1c24468"
      },
      "execution_count": 5,
      "outputs": [
        {
          "output_type": "stream",
          "name": "stdout",
          "text": [
            "1\n",
            "2\n",
            "3\n",
            "4\n",
            "5\n"
          ]
        }
      ]
    },
    {
      "cell_type": "code",
      "source": [
        "tabuada = 2\n",
        "while tabuada <= 10:\n",
        "    numero = 1\n",
        "    while numero <= 10:\n",
        "        print(\"%d x %d = %d\" %(tabuada, numero, tabuada*numero))\n",
        "        numero+=1   #numero = numero + 1\n",
        "        tabuada+=1  #tabuada = tabuada + 1"
      ],
      "metadata": {
        "colab": {
          "base_uri": "https://localhost:8080/"
        },
        "id": "mA59Dt6e8zTl",
        "outputId": "21179afb-71d9-44df-97df-6eeac9c75cab"
      },
      "execution_count": 7,
      "outputs": [
        {
          "output_type": "stream",
          "name": "stdout",
          "text": [
            "2 x 1 = 2\n",
            "3 x 2 = 6\n",
            "4 x 3 = 12\n",
            "5 x 4 = 20\n",
            "6 x 5 = 30\n",
            "7 x 6 = 42\n",
            "8 x 7 = 56\n",
            "9 x 8 = 72\n",
            "10 x 9 = 90\n",
            "11 x 10 = 110\n"
          ]
        }
      ]
    },
    {
      "cell_type": "code",
      "source": [
        "print('=======TABUADA========')\n",
        "num = int(input('Insira o Número inteiro: '))\n",
        "print('{} x {} = {}'.format(num, 1, num*1))\n",
        "print('{} x {} = {}'.format(num, 2, num*2))\n",
        "print('{} x {} = {}'.format(num, 3, num*3))\n",
        "print('{} x {} = {}'.format(num, 4, num*4))\n",
        "print('{} x {} = {}'.format(num, 5, num*5))\n",
        "print('{} x {} = {}'.format(num, 6, num*6))\n",
        "print('{} x {} = {}'.format(num, 7, num*7))\n",
        "print('{} x {} = {}'.format(num, 8, num*8))\n",
        "print('{} x {} = {}'.format(num, 9, num*9))\n",
        "print('{} x {} = {}'.format(num, 10, num*10))"
      ],
      "metadata": {
        "colab": {
          "base_uri": "https://localhost:8080/"
        },
        "id": "EteihmMV9I_i",
        "outputId": "18e50a3b-d0bc-40dd-ee0f-76ba72fe4f85"
      },
      "execution_count": 10,
      "outputs": [
        {
          "output_type": "stream",
          "name": "stdout",
          "text": [
            "=======TABUADA========\n",
            "Insira o Número inteiro: 7\n",
            "7 x 1 = 7\n",
            "7 x 2 = 14\n",
            "7 x 3 = 21\n",
            "7 x 4 = 28\n",
            "7 x 5 = 35\n",
            "7 x 6 = 42\n",
            "7 x 7 = 49\n",
            "7 x 8 = 56\n",
            "7 x 9 = 63\n",
            "7 x 10 = 70\n"
          ]
        }
      ]
    },
    {
      "cell_type": "code",
      "source": [
        "produtos= [\"ABC123\",\"abd012\",\"ABS111\",\"AbB222\"]"
      ],
      "metadata": {
        "id": "a_M5YDQWC85K"
      },
      "execution_count": 3,
      "outputs": []
    },
    {
      "cell_type": "code",
      "source": [
        "text=\"abd012\"\n",
        "text=text.upper()\n",
        "text=text.strip()\n",
        "print(text)"
      ],
      "metadata": {
        "id": "0C71X3mTDjrS"
      },
      "execution_count": null,
      "outputs": []
    },
    {
      "cell_type": "code",
      "source": [
        "text=\"abd012\"\n",
        "text=text.upper()\n",
        "text=text.strip()\n",
        "print(text)"
      ],
      "metadata": {
        "id": "s8Qhnv36EbPx"
      },
      "execution_count": null,
      "outputs": []
    },
    {
      "cell_type": "code",
      "source": [
        "\n",
        "text=\"abd012\"\n",
        "text=text.upper()\n",
        "text=text.strip()\n",
        "print(text)"
      ],
      "metadata": {
        "id": "psgTtufEEZwE"
      },
      "execution_count": null,
      "outputs": []
    },
    {
      "cell_type": "code",
      "source": [
        "def tratartext(text):\n",
        "  text=text.upper()\n",
        "  text=text.strip()\n",
        "  return text\n",
        "\n",
        "for i, produto in enumerate (produtos):\n",
        "  produtos[i]=tratartext(produto)\n",
        "print(produtos)  \n",
        "  "
      ],
      "metadata": {
        "id": "-FfJLR06D9Bd",
        "colab": {
          "base_uri": "https://localhost:8080/"
        },
        "outputId": "f908289a-b40b-456b-c9fe-4b8ea5e34c3f"
      },
      "execution_count": 4,
      "outputs": [
        {
          "output_type": "stream",
          "name": "stdout",
          "text": [
            "['ABC123', 'ABD012', 'ABS111', 'ABB222']\n"
          ]
        }
      ]
    }
  ]
}