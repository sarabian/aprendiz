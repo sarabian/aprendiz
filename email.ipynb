{
  "nbformat": 4,
  "nbformat_minor": 0,
  "metadata": {
    "colab": {
      "provenance": [],
      "authorship_tag": "ABX9TyPGJonD/+2ZboEniCgTm2I3",
      "include_colab_link": true
    },
    "kernelspec": {
      "name": "python3",
      "display_name": "Python 3"
    },
    "language_info": {
      "name": "python"
    }
  },
  "cells": [
    {
      "cell_type": "markdown",
      "metadata": {
        "id": "view-in-github",
        "colab_type": "text"
      },
      "source": [
        "<a href=\"https://colab.research.google.com/github/sarabian/aprendiz/blob/main/email.ipynb\" target=\"_parent\"><img src=\"https://colab.research.google.com/assets/colab-badge.svg\" alt=\"Open In Colab\"/></a>"
      ]
    },
    {
      "cell_type": "code",
      "execution_count": 5,
      "metadata": {
        "colab": {
          "base_uri": "https://localhost:8080/"
        },
        "id": "xIDvvMQsaB_i",
        "outputId": "1d277cda-95ad-4401-c719-06185e26b372"
      },
      "outputs": [
        {
          "output_type": "stream",
          "name": "stdout",
          "text": [
            "Email enviado\n"
          ]
        }
      ],
      "source": [
        "#!/usr/bin/env python\n",
        "# coding: utf-8\n",
        "\n",
        "# In[ ]:\n",
        "\n",
        "\n",
        "import smtplib\n",
        "import email.message\n",
        "\n",
        "def enviar_email():  \n",
        "    corpo_email = \"\"\"\n",
        "    <p>  ola sara </p>\n",
        "    <p>   email automatico </p>\n",
        "    \"\"\"\n",
        "\n",
        "    msg = email.message.Message()\n",
        "    msg['Subject'] = \"Assunto\"\n",
        "    msg['From'] = 'sanny1989@gmail.com'\n",
        "    msg['To'] = 'sarabian17@outlook.com,sanny.scbs@gmail.com'\n",
        "    password = 'ohefwydtelmahfzy' \n",
        "    msg.add_header('Content-Type', 'text/html')\n",
        "    msg.set_payload(corpo_email )\n",
        "\n",
        "    s = smtplib.SMTP('smtp.gmail.com: 587')\n",
        "    s.starttls()\n",
        "    # Login Credentials for sending the mail\n",
        "    s.login(msg['From'], password)\n",
        "    s.sendmail(msg['From'], [msg['To']], msg.as_string().encode('utf-8'))\n",
        "    print('Email enviado')\n",
        "\n",
        "\n",
        "# In[ ]:\n",
        "\n",
        "\n",
        "enviar_email()"
      ]
    }
  ]
}