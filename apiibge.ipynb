{
  "nbformat": 4,
  "nbformat_minor": 0,
  "metadata": {
    "colab": {
      "provenance": [],
      "authorship_tag": "ABX9TyM4sGWaGDt1DNvVGSsxrwfx",
      "include_colab_link": true
    },
    "kernelspec": {
      "name": "python3",
      "display_name": "Python 3"
    },
    "language_info": {
      "name": "python"
    }
  },
  "cells": [
    {
      "cell_type": "markdown",
      "metadata": {
        "id": "view-in-github",
        "colab_type": "text"
      },
      "source": [
        "<a href=\"https://colab.research.google.com/github/sarabian/aprendiz/blob/main/apiibge.ipynb\" target=\"_parent\"><img src=\"https://colab.research.google.com/assets/colab-badge.svg\" alt=\"Open In Colab\"/></a>"
      ]
    },
    {
      "cell_type": "code",
      "execution_count": 15,
      "metadata": {
        "colab": {
          "base_uri": "https://localhost:8080/"
        },
        "id": "hq5RKwI4wLuR",
        "outputId": "c48ee852-867a-425a-9114-ba191a34007d"
      },
      "outputs": [
        {
          "output_type": "stream",
          "name": "stdout",
          "text": [
            "[{'localidade': {'id': '1',\n",
            "                 'nivel': {'id': 'N1', 'nome': 'Brasil'},\n",
            "                 'nome': 'Brasil'},\n",
            "  'serie': {'2006': '1496422'}}]\n"
          ]
        }
      ],
      "source": [
        "import requests\n",
        "\n",
        "link = \"https://servicodados.ibge.gov.br/api/v3/agregados/4112/periodos/2006/variaveis/2586?localidades=N1[all]\"\n",
        "requisicao= requests.get(link)\n",
        "informacoes=requisicao.json()\n",
        "import pprint\n",
        "pprint.pprint(informacoes[0]['resultados'][0]['series'])\n",
        "item_busca = informacoes[0]['variavel']\n",
        "resultados = informacoes[0]['resultados'][0]['series']"
      ]
    },
    {
      "cell_type": "code",
      "source": [],
      "metadata": {
        "id": "SEGO6WkY3tmC"
      },
      "execution_count": null,
      "outputs": []
    },
    {
      "cell_type": "code",
      "source": [
        "print(item_busca)\n",
        "print(resultados)"
      ],
      "metadata": {
        "colab": {
          "base_uri": "https://localhost:8080/"
        },
        "id": "r4g5Cn2-yfsK",
        "outputId": "463c2fbf-a517-4011-d365-6c55277d28bc"
      },
      "execution_count": 16,
      "outputs": [
        {
          "output_type": "stream",
          "name": "stdout",
          "text": [
            "Número de estabelecimentos agropecuários com suínos\n",
            "[{'localidade': {'id': '1', 'nivel': {'id': 'N1', 'nome': 'Brasil'}, 'nome': 'Brasil'}, 'serie': {'2006': '1496422'}}]\n"
          ]
        }
      ]
    },
    {
      "cell_type": "code",
      "source": [
        "\n",
        "import requests\n",
        "link = 'https://servicodados.ibge.gov.br/api/v3/agregados/7392/periodos/2014/variaveis/10484?localidades=N1[all]'\n",
        "requisicao= requests.get(link)\n",
        "informacoes=requisicao.json()\n",
        "import pprint\n",
        "pprint.pprint(informacoes[0]['resultados'][0]['series'])\n",
        "item_busca = informacoes[0]['variavel']\n",
        "resultados = informacoes[0]['resultados'][0]['series']\n"
      ],
      "metadata": {
        "colab": {
          "base_uri": "https://localhost:8080/"
        },
        "id": "4bbYIakc3zR5",
        "outputId": "b07ab84b-48cc-4968-b17b-a8a08527fa02"
      },
      "execution_count": 18,
      "outputs": [
        {
          "output_type": "stream",
          "name": "stdout",
          "text": [
            "[{'localidade': {'id': '1',\n",
            "                 'nivel': {'id': 'N1', 'nome': 'Brasil'},\n",
            "                 'nome': 'Brasil'},\n",
            "  'serie': {'2014': '16645'}}]\n"
          ]
        }
      ]
    },
    {
      "cell_type": "code",
      "source": [
        "print(item_busca)\n",
        "print(resultados)"
      ],
      "metadata": {
        "colab": {
          "base_uri": "https://localhost:8080/"
        },
        "id": "jVA8VWiF4tNB",
        "outputId": "a0bc1d21-5753-4b0d-dadb-2da8955264e1"
      },
      "execution_count": 19,
      "outputs": [
        {
          "output_type": "stream",
          "name": "stdout",
          "text": [
            "Número de espécies da fauna e da flora brasileira avaliadas quanto ao risco de extinção\n",
            "[{'localidade': {'id': '1', 'nivel': {'id': 'N1', 'nome': 'Brasil'}, 'nome': 'Brasil'}, 'serie': {'2014': '16645'}}]\n"
          ]
        }
      ]
    },
    {
      "cell_type": "code",
      "source": [
        "import requests\n",
        "link = 'https://servicodados.ibge.gov.br/api/v3/agregados/6579/periodos/2021/variaveis/9324?localidades=N1[all]'\n",
        "requisicao= requests.get(link)\n",
        "informacoes=requisicao.json()\n",
        "import pprint\n",
        "pprint.pprint(informacoes[0]['resultados'][0]['series'])\n",
        "item_busca = informacoes[0]['variavel']\n",
        "resultados = informacoes[0]['resultados'][0]['series']\n",
        "\n"
      ],
      "metadata": {
        "colab": {
          "base_uri": "https://localhost:8080/"
        },
        "id": "R3Niv4R59KuG",
        "outputId": "f0ec0e08-19a2-442b-8af8-96a4600726c6"
      },
      "execution_count": 20,
      "outputs": [
        {
          "output_type": "stream",
          "name": "stdout",
          "text": [
            "[{'localidade': {'id': '1',\n",
            "                 'nivel': {'id': 'N1', 'nome': 'Brasil'},\n",
            "                 'nome': 'Brasil'},\n",
            "  'serie': {'2021': '213317639'}}]\n"
          ]
        }
      ]
    },
    {
      "cell_type": "code",
      "source": [
        "print(item_busca)\n",
        "print(resultados)"
      ],
      "metadata": {
        "colab": {
          "base_uri": "https://localhost:8080/"
        },
        "id": "pkbe5EZl9LNo",
        "outputId": "a87cb027-47fe-4352-cc8a-ea984de96b6f"
      },
      "execution_count": 21,
      "outputs": [
        {
          "output_type": "stream",
          "name": "stdout",
          "text": [
            "População residente estimada\n",
            "[{'localidade': {'id': '1', 'nivel': {'id': 'N1', 'nome': 'Brasil'}, 'nome': 'Brasil'}, 'serie': {'2021': '213317639'}}]\n"
          ]
        }
      ]
    }
  ]
}