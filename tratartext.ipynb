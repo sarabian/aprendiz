{
  "nbformat": 4,
  "nbformat_minor": 0,
  "metadata": {
    "colab": {
      "provenance": [],
      "authorship_tag": "ABX9TyOwPCc5Ktopeo9zcqke6PX8",
      "include_colab_link": true
    },
    "kernelspec": {
      "name": "python3",
      "display_name": "Python 3"
    },
    "language_info": {
      "name": "python"
    }
  },
  "cells": [
    {
      "cell_type": "markdown",
      "metadata": {
        "id": "view-in-github",
        "colab_type": "text"
      },
      "source": [
        "<a href=\"https://colab.research.google.com/github/sarabian/aprendiz/blob/main/tratartext.ipynb\" target=\"_parent\"><img src=\"https://colab.research.google.com/assets/colab-badge.svg\" alt=\"Open In Colab\"/></a>"
      ]
    },
    {
      "cell_type": "code",
      "execution_count": null,
      "metadata": {
        "id": "6dZPJZxAGRrz"
      },
      "outputs": [],
      "source": [
        "def tratartext(text):\n",
        "  text=text.upper()\n",
        "  text=text.strip()\n",
        "  return text\n",
        "\n",
        "for i, produto in enumerate (produtos):\n",
        "  produtos[i]=tratartext(produto)\n",
        "print(produtos)  "
      ]
    },
    {
      "cell_type": "code",
      "source": [
        "produtos=[\"abd\",\"AbD\",\"aaD\",\"SSc\",\"aaa\"]"
      ],
      "metadata": {
        "id": "GvusJrq6GW7v"
      },
      "execution_count": 1,
      "outputs": []
    },
    {
      "cell_type": "code",
      "source": [
        "def tratartext(text):\n",
        "  text=text.upper()\n",
        "  text=text.strip()\n",
        "  return text\n",
        "\n",
        "for i, produto in enumerate (produtos):\n",
        "  produtos[i]=tratartext(produto)\n",
        "print(produtos)  "
      ],
      "metadata": {
        "colab": {
          "base_uri": "https://localhost:8080/"
        },
        "id": "A93TrEh3GZT7",
        "outputId": "ef9498c3-d732-41f7-a49e-7d7c832018ec"
      },
      "execution_count": 2,
      "outputs": [
        {
          "output_type": "stream",
          "name": "stdout",
          "text": [
            "['ABD', 'ABD', 'AAD', 'SSC', 'AAA']\n"
          ]
        }
      ]
    }
  ]
}